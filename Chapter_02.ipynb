{
 "cells": [
  {
   "cell_type": "markdown",
   "id": "52e9bb3a",
   "metadata": {},
   "source": [
    "# Data management in Python"
   ]
  },
  {
   "cell_type": "code",
   "execution_count": 1,
   "id": "a922c6cd",
   "metadata": {},
   "outputs": [],
   "source": [
    "# Import the required libraries\n",
    "\n",
    "import pandas as pd              # for handling datasets\n",
    "import numpy as np               # a large collection of high-level mathematical functions\n",
    "import numpy_financial as npf    # performing financial functions\n",
    "import matplotlib.pyplot as plt  # for creating plots\n",
    "import pickle                    # saving and loading Python workfile"
   ]
  },
  {
   "cell_type": "markdown",
   "id": "affbee0c",
   "metadata": {},
   "source": [
    "### Import the dataset"
   ]
  },
  {
   "cell_type": "code",
   "execution_count": 2,
   "id": "cc46aac2",
   "metadata": {},
   "outputs": [
    {
     "data": {
      "text/plain": [
       "pandas.core.frame.DataFrame"
      ]
     },
     "execution_count": 2,
     "metadata": {},
     "output_type": "execute_result"
    }
   ],
   "source": [
    "# Import the dataset and store it into the variable \"data\"\n",
    "\n",
    "data = pd.read_excel('D:/OneDrive/Data/Brooks4e/fund_managers.xlsx')\n",
    "type(data)"
   ]
  },
  {
   "cell_type": "markdown",
   "id": "cb158f5d",
   "metadata": {},
   "source": [
    "The object \"data\" is called a \"DataFrame\", which is designed to store data such as an Excel sheet and is a structure with at least two columns. On the other hand, there is a similar data sturcture called a \"Series\", which is a one-dimensional labelled array."
   ]
  },
  {
   "cell_type": "markdown",
   "id": "18f7ab70",
   "metadata": {},
   "source": [
    "### Data description and calculation"
   ]
  },
  {
   "cell_type": "code",
   "execution_count": 3,
   "id": "42348ae9",
   "metadata": {},
   "outputs": [
    {
     "name": "stdout",
     "output_type": "stream",
     "text": [
      "    Year  Risky Ricky  Safe Steve  Ricky Ranks  Steve Ranks\n",
      "0   2005           24           9            2            3\n",
      "1   2006           18           7            3            4\n",
      "2   2007            4           5            7            6\n",
      "3   2008          -23          -8           13           13\n",
      "4   2009          -12          -3           11           12\n",
      "5   2010            1           3            8            8\n",
      "6   2011            7           4            6            7\n",
      "7   2012           12           2            5           10\n",
      "8   2013           -6           3            9            8\n",
      "9   2014          -14           6           12            5\n",
      "10  2015           -7           2           10           10\n",
      "11  2016           56          19            1            1\n",
      "12  2017           14          12            4            2\n"
     ]
    }
   ],
   "source": [
    "# Listing the whole dataset\n",
    "\n",
    "print(data)"
   ]
  },
  {
   "cell_type": "code",
   "execution_count": 4,
   "id": "f6f74c16",
   "metadata": {},
   "outputs": [
    {
     "data": {
      "text/html": [
       "<div>\n",
       "<style scoped>\n",
       "    .dataframe tbody tr th:only-of-type {\n",
       "        vertical-align: middle;\n",
       "    }\n",
       "\n",
       "    .dataframe tbody tr th {\n",
       "        vertical-align: top;\n",
       "    }\n",
       "\n",
       "    .dataframe thead th {\n",
       "        text-align: right;\n",
       "    }\n",
       "</style>\n",
       "<table border=\"1\" class=\"dataframe\">\n",
       "  <thead>\n",
       "    <tr style=\"text-align: right;\">\n",
       "      <th></th>\n",
       "      <th>Year</th>\n",
       "      <th>Risky Ricky</th>\n",
       "      <th>Safe Steve</th>\n",
       "      <th>Ricky Ranks</th>\n",
       "      <th>Steve Ranks</th>\n",
       "    </tr>\n",
       "  </thead>\n",
       "  <tbody>\n",
       "    <tr>\n",
       "      <th>0</th>\n",
       "      <td>2005</td>\n",
       "      <td>24</td>\n",
       "      <td>9</td>\n",
       "      <td>2</td>\n",
       "      <td>3</td>\n",
       "    </tr>\n",
       "    <tr>\n",
       "      <th>1</th>\n",
       "      <td>2006</td>\n",
       "      <td>18</td>\n",
       "      <td>7</td>\n",
       "      <td>3</td>\n",
       "      <td>4</td>\n",
       "    </tr>\n",
       "    <tr>\n",
       "      <th>2</th>\n",
       "      <td>2007</td>\n",
       "      <td>4</td>\n",
       "      <td>5</td>\n",
       "      <td>7</td>\n",
       "      <td>6</td>\n",
       "    </tr>\n",
       "    <tr>\n",
       "      <th>3</th>\n",
       "      <td>2008</td>\n",
       "      <td>-23</td>\n",
       "      <td>-8</td>\n",
       "      <td>13</td>\n",
       "      <td>13</td>\n",
       "    </tr>\n",
       "    <tr>\n",
       "      <th>4</th>\n",
       "      <td>2009</td>\n",
       "      <td>-12</td>\n",
       "      <td>-3</td>\n",
       "      <td>11</td>\n",
       "      <td>12</td>\n",
       "    </tr>\n",
       "  </tbody>\n",
       "</table>\n",
       "</div>"
      ],
      "text/plain": [
       "   Year  Risky Ricky  Safe Steve  Ricky Ranks  Steve Ranks\n",
       "0  2005           24           9            2            3\n",
       "1  2006           18           7            3            4\n",
       "2  2007            4           5            7            6\n",
       "3  2008          -23          -8           13           13\n",
       "4  2009          -12          -3           11           12"
      ]
     },
     "execution_count": 4,
     "metadata": {},
     "output_type": "execute_result"
    }
   ],
   "source": [
    "# List the first five rows of data\n",
    "\n",
    "data.head()"
   ]
  },
  {
   "cell_type": "code",
   "execution_count": 5,
   "id": "718edbf6",
   "metadata": {},
   "outputs": [
    {
     "name": "stdout",
     "output_type": "stream",
     "text": [
      "5.6923076923076925 4.6923076923076925\n",
      "20.36084729484759 6.612924408366485\n",
      "1.1154523149102482 0.29450652269478483\n",
      "2.1042142637505923 1.4590345079578664\n"
     ]
    }
   ],
   "source": [
    "# Summary statistics\n",
    "\n",
    "print(data['Risky Ricky'].mean(), data['Safe Steve'].mean())\n",
    "print(data['Risky Ricky'].std(), data['Safe Steve'].std())\n",
    "print(data['Risky Ricky'].skew(), data['Safe Steve'].skew())\n",
    "print(data['Risky Ricky'].kurtosis(), data['Safe Steve'].kurtosis())"
   ]
  },
  {
   "cell_type": "code",
   "execution_count": 6,
   "id": "97a92fee",
   "metadata": {},
   "outputs": [
    {
     "data": {
      "text/html": [
       "<div>\n",
       "<style scoped>\n",
       "    .dataframe tbody tr th:only-of-type {\n",
       "        vertical-align: middle;\n",
       "    }\n",
       "\n",
       "    .dataframe tbody tr th {\n",
       "        vertical-align: top;\n",
       "    }\n",
       "\n",
       "    .dataframe thead th {\n",
       "        text-align: right;\n",
       "    }\n",
       "</style>\n",
       "<table border=\"1\" class=\"dataframe\">\n",
       "  <thead>\n",
       "    <tr style=\"text-align: right;\">\n",
       "      <th></th>\n",
       "      <th>Year</th>\n",
       "      <th>Risky Ricky</th>\n",
       "      <th>Safe Steve</th>\n",
       "      <th>Ricky Ranks</th>\n",
       "      <th>Steve Ranks</th>\n",
       "    </tr>\n",
       "  </thead>\n",
       "  <tbody>\n",
       "    <tr>\n",
       "      <th>count</th>\n",
       "      <td>13.00000</td>\n",
       "      <td>13.000000</td>\n",
       "      <td>13.000000</td>\n",
       "      <td>13.00000</td>\n",
       "      <td>13.000000</td>\n",
       "    </tr>\n",
       "    <tr>\n",
       "      <th>mean</th>\n",
       "      <td>2011.00000</td>\n",
       "      <td>5.692308</td>\n",
       "      <td>4.692308</td>\n",
       "      <td>7.00000</td>\n",
       "      <td>6.846154</td>\n",
       "    </tr>\n",
       "    <tr>\n",
       "      <th>std</th>\n",
       "      <td>3.89444</td>\n",
       "      <td>20.360847</td>\n",
       "      <td>6.612924</td>\n",
       "      <td>3.89444</td>\n",
       "      <td>3.782551</td>\n",
       "    </tr>\n",
       "    <tr>\n",
       "      <th>min</th>\n",
       "      <td>2005.00000</td>\n",
       "      <td>-23.000000</td>\n",
       "      <td>-8.000000</td>\n",
       "      <td>1.00000</td>\n",
       "      <td>1.000000</td>\n",
       "    </tr>\n",
       "    <tr>\n",
       "      <th>25%</th>\n",
       "      <td>2008.00000</td>\n",
       "      <td>-7.000000</td>\n",
       "      <td>2.000000</td>\n",
       "      <td>4.00000</td>\n",
       "      <td>4.000000</td>\n",
       "    </tr>\n",
       "    <tr>\n",
       "      <th>50%</th>\n",
       "      <td>2011.00000</td>\n",
       "      <td>4.000000</td>\n",
       "      <td>4.000000</td>\n",
       "      <td>7.00000</td>\n",
       "      <td>7.000000</td>\n",
       "    </tr>\n",
       "    <tr>\n",
       "      <th>75%</th>\n",
       "      <td>2014.00000</td>\n",
       "      <td>14.000000</td>\n",
       "      <td>7.000000</td>\n",
       "      <td>10.00000</td>\n",
       "      <td>10.000000</td>\n",
       "    </tr>\n",
       "    <tr>\n",
       "      <th>max</th>\n",
       "      <td>2017.00000</td>\n",
       "      <td>56.000000</td>\n",
       "      <td>19.000000</td>\n",
       "      <td>13.00000</td>\n",
       "      <td>13.000000</td>\n",
       "    </tr>\n",
       "  </tbody>\n",
       "</table>\n",
       "</div>"
      ],
      "text/plain": [
       "             Year  Risky Ricky  Safe Steve  Ricky Ranks  Steve Ranks\n",
       "count    13.00000    13.000000   13.000000     13.00000    13.000000\n",
       "mean   2011.00000     5.692308    4.692308      7.00000     6.846154\n",
       "std       3.89444    20.360847    6.612924      3.89444     3.782551\n",
       "min    2005.00000   -23.000000   -8.000000      1.00000     1.000000\n",
       "25%    2008.00000    -7.000000    2.000000      4.00000     4.000000\n",
       "50%    2011.00000     4.000000    4.000000      7.00000     7.000000\n",
       "75%    2014.00000    14.000000    7.000000     10.00000    10.000000\n",
       "max    2017.00000    56.000000   19.000000     13.00000    13.000000"
      ]
     },
     "execution_count": 6,
     "metadata": {},
     "output_type": "execute_result"
    }
   ],
   "source": [
    "data.describe()"
   ]
  },
  {
   "cell_type": "code",
   "execution_count": 7,
   "id": "63b3b5e0",
   "metadata": {},
   "outputs": [
    {
     "data": {
      "text/html": [
       "<div>\n",
       "<style scoped>\n",
       "    .dataframe tbody tr th:only-of-type {\n",
       "        vertical-align: middle;\n",
       "    }\n",
       "\n",
       "    .dataframe tbody tr th {\n",
       "        vertical-align: top;\n",
       "    }\n",
       "\n",
       "    .dataframe thead th {\n",
       "        text-align: right;\n",
       "    }\n",
       "</style>\n",
       "<table border=\"1\" class=\"dataframe\">\n",
       "  <thead>\n",
       "    <tr style=\"text-align: right;\">\n",
       "      <th></th>\n",
       "      <th>Year</th>\n",
       "      <th>Risky Ricky</th>\n",
       "      <th>Safe Steve</th>\n",
       "      <th>Ricky Ranks</th>\n",
       "      <th>Steve Ranks</th>\n",
       "    </tr>\n",
       "  </thead>\n",
       "  <tbody>\n",
       "    <tr>\n",
       "      <th>Year</th>\n",
       "      <td>1.000000</td>\n",
       "      <td>0.142928</td>\n",
       "      <td>0.385059</td>\n",
       "      <td>0.021978</td>\n",
       "      <td>-0.197996</td>\n",
       "    </tr>\n",
       "    <tr>\n",
       "      <th>Risky Ricky</th>\n",
       "      <td>0.142928</td>\n",
       "      <td>1.000000</td>\n",
       "      <td>0.870048</td>\n",
       "      <td>-0.934285</td>\n",
       "      <td>-0.766741</td>\n",
       "    </tr>\n",
       "    <tr>\n",
       "      <th>Safe Steve</th>\n",
       "      <td>0.385059</td>\n",
       "      <td>0.870048</td>\n",
       "      <td>1.000000</td>\n",
       "      <td>-0.796004</td>\n",
       "      <td>-0.944866</td>\n",
       "    </tr>\n",
       "    <tr>\n",
       "      <th>Ricky Ranks</th>\n",
       "      <td>0.021978</td>\n",
       "      <td>-0.934285</td>\n",
       "      <td>-0.796004</td>\n",
       "      <td>1.000000</td>\n",
       "      <td>0.763700</td>\n",
       "    </tr>\n",
       "    <tr>\n",
       "      <th>Steve Ranks</th>\n",
       "      <td>-0.197996</td>\n",
       "      <td>-0.766741</td>\n",
       "      <td>-0.944866</td>\n",
       "      <td>0.763700</td>\n",
       "      <td>1.000000</td>\n",
       "    </tr>\n",
       "  </tbody>\n",
       "</table>\n",
       "</div>"
      ],
      "text/plain": [
       "                 Year  Risky Ricky  Safe Steve  Ricky Ranks  Steve Ranks\n",
       "Year         1.000000     0.142928    0.385059     0.021978    -0.197996\n",
       "Risky Ricky  0.142928     1.000000    0.870048    -0.934285    -0.766741\n",
       "Safe Steve   0.385059     0.870048    1.000000    -0.796004    -0.944866\n",
       "Ricky Ranks  0.021978    -0.934285   -0.796004     1.000000     0.763700\n",
       "Steve Ranks -0.197996    -0.766741   -0.944866     0.763700     1.000000"
      ]
     },
     "execution_count": 7,
     "metadata": {},
     "output_type": "execute_result"
    }
   ],
   "source": [
    "data.corr()"
   ]
  },
  {
   "cell_type": "markdown",
   "id": "12bdd9a4",
   "metadata": {},
   "source": [
    "### Internal rate of return"
   ]
  },
  {
   "cell_type": "markdown",
   "id": "f4ab9960",
   "metadata": {},
   "source": [
    "The financial functions in \"numpy\" are deprecated and eventually will be removed from \"numpy\"; see NEP-32 for more information.\n",
    "\n",
    "Instead, the \"numpy-financial\" package contains a collection of elementary financial functions. This package is the replacement for the original \"numpy\" financial functions.\n",
    "\n",
    "The source code for this package is available at https://github.com/numpy/numpy-financial.\n",
    "\n",
    "The importable name of the package is \"numpy_financial\". The recommended alias is \"npf\". The package has been imported at the beginning of this document. The following is an example from the documentation of the package."
   ]
  },
  {
   "cell_type": "code",
   "execution_count": 8,
   "id": "10ea3c59",
   "metadata": {},
   "outputs": [
    {
     "data": {
      "text/plain": [
       "0.5672303344358534"
      ]
     },
     "execution_count": 8,
     "metadata": {},
     "output_type": "execute_result"
    }
   ],
   "source": [
    "npf.irr([-250000, 100000, 150000, 200000, 250000, 300000])"
   ]
  },
  {
   "cell_type": "markdown",
   "id": "611f48e0",
   "metadata": {},
   "source": [
    "Continue the example in Brook's Python Guide\n",
    "\n",
    "Example 2.5 (Page 75 of Brooks (2019))"
   ]
  },
  {
   "cell_type": "code",
   "execution_count": 9,
   "id": "f1be0549",
   "metadata": {},
   "outputs": [],
   "source": [
    "cashflow = pd.Series(index=[0,1,2,3,4,5], name='Cashflow',\\\n",
    "                    data=[-107,5,5,5,5,105])"
   ]
  },
  {
   "cell_type": "code",
   "execution_count": 10,
   "id": "5113f04e",
   "metadata": {},
   "outputs": [
    {
     "name": "stdout",
     "output_type": "stream",
     "text": [
      "0   -107\n",
      "1      5\n",
      "2      5\n",
      "3      5\n",
      "4      5\n",
      "5    105\n",
      "Name: Cashflow, dtype: int64\n"
     ]
    }
   ],
   "source": [
    "print(cashflow)"
   ]
  },
  {
   "cell_type": "code",
   "execution_count": 11,
   "id": "cd425094",
   "metadata": {},
   "outputs": [
    {
     "data": {
      "text/plain": [
       "0.03451748408599542"
      ]
     },
     "execution_count": 11,
     "metadata": {},
     "output_type": "execute_result"
    }
   ],
   "source": [
    "npf.irr(cashflow)"
   ]
  },
  {
   "cell_type": "markdown",
   "id": "aa041ae4",
   "metadata": {},
   "source": [
    "### An example: calculating summary statistics for house prices"
   ]
  },
  {
   "cell_type": "code",
   "execution_count": 12,
   "id": "d2bdafa0",
   "metadata": {},
   "outputs": [
    {
     "data": {
      "text/html": [
       "<div>\n",
       "<style scoped>\n",
       "    .dataframe tbody tr th:only-of-type {\n",
       "        vertical-align: middle;\n",
       "    }\n",
       "\n",
       "    .dataframe tbody tr th {\n",
       "        vertical-align: top;\n",
       "    }\n",
       "\n",
       "    .dataframe thead th {\n",
       "        text-align: right;\n",
       "    }\n",
       "</style>\n",
       "<table border=\"1\" class=\"dataframe\">\n",
       "  <thead>\n",
       "    <tr style=\"text-align: right;\">\n",
       "      <th></th>\n",
       "      <th>Average House Price</th>\n",
       "    </tr>\n",
       "    <tr>\n",
       "      <th>Month</th>\n",
       "      <th></th>\n",
       "    </tr>\n",
       "  </thead>\n",
       "  <tbody>\n",
       "    <tr>\n",
       "      <th>1991-01-01</th>\n",
       "      <td>53051.721106</td>\n",
       "    </tr>\n",
       "    <tr>\n",
       "      <th>1991-02-01</th>\n",
       "      <td>53496.798746</td>\n",
       "    </tr>\n",
       "    <tr>\n",
       "      <th>1991-03-01</th>\n",
       "      <td>52892.861606</td>\n",
       "    </tr>\n",
       "    <tr>\n",
       "      <th>1991-04-01</th>\n",
       "      <td>53677.435270</td>\n",
       "    </tr>\n",
       "    <tr>\n",
       "      <th>1991-05-01</th>\n",
       "      <td>54385.726747</td>\n",
       "    </tr>\n",
       "  </tbody>\n",
       "</table>\n",
       "</div>"
      ],
      "text/plain": [
       "            Average House Price\n",
       "Month                          \n",
       "1991-01-01         53051.721106\n",
       "1991-02-01         53496.798746\n",
       "1991-03-01         52892.861606\n",
       "1991-04-01         53677.435270\n",
       "1991-05-01         54385.726747"
      ]
     },
     "execution_count": 12,
     "metadata": {},
     "output_type": "execute_result"
    }
   ],
   "source": [
    "# Import the dataset\n",
    "# The option \"index_col = 0\" set up the first column of the imported dataset 'Month' as an index column\n",
    "# instead of \"pandas\"'s default index, which is 0, 1, 2, ...\n",
    "\n",
    "data2 = pd.read_excel('D:/OneDrive/Data/Brooks4e/UKHP.xls', index_col=0)\n",
    "data2.head()"
   ]
  },
  {
   "cell_type": "code",
   "execution_count": 13,
   "id": "21c34239",
   "metadata": {},
   "outputs": [
    {
     "name": "stdout",
     "output_type": "stream",
     "text": [
      "124660.48446512519\n",
      "56387.16566469951\n",
      "-0.11014547214986718\n",
      "-1.591926785005042\n"
     ]
    }
   ],
   "source": [
    "# Summary statistics\n",
    "\n",
    "print(data2['Average House Price'].mean())\n",
    "print(data2['Average House Price'].std())\n",
    "print(data2['Average House Price'].skew())\n",
    "print(data2['Average House Price'].kurtosis())"
   ]
  },
  {
   "cell_type": "code",
   "execution_count": 14,
   "id": "4897c42d",
   "metadata": {},
   "outputs": [
    {
     "data": {
      "text/html": [
       "<div>\n",
       "<style scoped>\n",
       "    .dataframe tbody tr th:only-of-type {\n",
       "        vertical-align: middle;\n",
       "    }\n",
       "\n",
       "    .dataframe tbody tr th {\n",
       "        vertical-align: top;\n",
       "    }\n",
       "\n",
       "    .dataframe thead th {\n",
       "        text-align: right;\n",
       "    }\n",
       "</style>\n",
       "<table border=\"1\" class=\"dataframe\">\n",
       "  <thead>\n",
       "    <tr style=\"text-align: right;\">\n",
       "      <th></th>\n",
       "      <th>Average House Price</th>\n",
       "    </tr>\n",
       "  </thead>\n",
       "  <tbody>\n",
       "    <tr>\n",
       "      <th>count</th>\n",
       "      <td>327.000000</td>\n",
       "    </tr>\n",
       "    <tr>\n",
       "      <th>mean</th>\n",
       "      <td>124660.484465</td>\n",
       "    </tr>\n",
       "    <tr>\n",
       "      <th>std</th>\n",
       "      <td>56387.165665</td>\n",
       "    </tr>\n",
       "    <tr>\n",
       "      <th>min</th>\n",
       "      <td>49601.664241</td>\n",
       "    </tr>\n",
       "    <tr>\n",
       "      <th>25%</th>\n",
       "      <td>61654.141609</td>\n",
       "    </tr>\n",
       "    <tr>\n",
       "      <th>50%</th>\n",
       "      <td>150946.108249</td>\n",
       "    </tr>\n",
       "    <tr>\n",
       "      <th>75%</th>\n",
       "      <td>169239.278727</td>\n",
       "    </tr>\n",
       "    <tr>\n",
       "      <th>max</th>\n",
       "      <td>211755.925562</td>\n",
       "    </tr>\n",
       "  </tbody>\n",
       "</table>\n",
       "</div>"
      ],
      "text/plain": [
       "       Average House Price\n",
       "count           327.000000\n",
       "mean         124660.484465\n",
       "std           56387.165665\n",
       "min           49601.664241\n",
       "25%           61654.141609\n",
       "50%          150946.108249\n",
       "75%          169239.278727\n",
       "max          211755.925562"
      ]
     },
     "execution_count": 14,
     "metadata": {},
     "output_type": "execute_result"
    }
   ],
   "source": [
    "data2.describe()"
   ]
  },
  {
   "cell_type": "markdown",
   "id": "67307b53",
   "metadata": {},
   "source": [
    "#### Creatng a user-defined function to calculte the log changes"
   ]
  },
  {
   "cell_type": "code",
   "execution_count": 15,
   "id": "9b809f19",
   "metadata": {},
   "outputs": [],
   "source": [
    "# Create the user-defined function\n",
    "\n",
    "def LogDiff(x):\n",
    "    x_diff = 100*np.log(x/x.shift(1))\n",
    "    return x_diff"
   ]
  },
  {
   "cell_type": "code",
   "execution_count": 16,
   "id": "7eace62c",
   "metadata": {},
   "outputs": [
    {
     "data": {
      "text/html": [
       "<div>\n",
       "<style scoped>\n",
       "    .dataframe tbody tr th:only-of-type {\n",
       "        vertical-align: middle;\n",
       "    }\n",
       "\n",
       "    .dataframe tbody tr th {\n",
       "        vertical-align: top;\n",
       "    }\n",
       "\n",
       "    .dataframe thead th {\n",
       "        text-align: right;\n",
       "    }\n",
       "</style>\n",
       "<table border=\"1\" class=\"dataframe\">\n",
       "  <thead>\n",
       "    <tr style=\"text-align: right;\">\n",
       "      <th></th>\n",
       "      <th>Average House Price</th>\n",
       "      <th>dhp</th>\n",
       "    </tr>\n",
       "    <tr>\n",
       "      <th>Month</th>\n",
       "      <th></th>\n",
       "      <th></th>\n",
       "    </tr>\n",
       "  </thead>\n",
       "  <tbody>\n",
       "    <tr>\n",
       "      <th>1991-01-01</th>\n",
       "      <td>53051.721106</td>\n",
       "      <td>NaN</td>\n",
       "    </tr>\n",
       "    <tr>\n",
       "      <th>1991-02-01</th>\n",
       "      <td>53496.798746</td>\n",
       "      <td>0.835451</td>\n",
       "    </tr>\n",
       "    <tr>\n",
       "      <th>1991-03-01</th>\n",
       "      <td>52892.861606</td>\n",
       "      <td>-1.135343</td>\n",
       "    </tr>\n",
       "    <tr>\n",
       "      <th>1991-04-01</th>\n",
       "      <td>53677.435270</td>\n",
       "      <td>1.472432</td>\n",
       "    </tr>\n",
       "    <tr>\n",
       "      <th>1991-05-01</th>\n",
       "      <td>54385.726747</td>\n",
       "      <td>1.310903</td>\n",
       "    </tr>\n",
       "  </tbody>\n",
       "</table>\n",
       "</div>"
      ],
      "text/plain": [
       "            Average House Price       dhp\n",
       "Month                                    \n",
       "1991-01-01         53051.721106       NaN\n",
       "1991-02-01         53496.798746  0.835451\n",
       "1991-03-01         52892.861606 -1.135343\n",
       "1991-04-01         53677.435270  1.472432\n",
       "1991-05-01         54385.726747  1.310903"
      ]
     },
     "execution_count": 16,
     "metadata": {},
     "output_type": "execute_result"
    }
   ],
   "source": [
    "# Call the function and generate a new variable \"dhp\"\n",
    "\n",
    "data2['dhp'] = LogDiff(data2['Average House Price'])\n",
    "data2.head()"
   ]
  },
  {
   "cell_type": "code",
   "execution_count": 17,
   "id": "536ddb87",
   "metadata": {},
   "outputs": [
    {
     "data": {
      "text/html": [
       "<div>\n",
       "<style scoped>\n",
       "    .dataframe tbody tr th:only-of-type {\n",
       "        vertical-align: middle;\n",
       "    }\n",
       "\n",
       "    .dataframe tbody tr th {\n",
       "        vertical-align: top;\n",
       "    }\n",
       "\n",
       "    .dataframe thead th {\n",
       "        text-align: right;\n",
       "    }\n",
       "</style>\n",
       "<table border=\"1\" class=\"dataframe\">\n",
       "  <thead>\n",
       "    <tr style=\"text-align: right;\">\n",
       "      <th></th>\n",
       "      <th>Average House Price</th>\n",
       "      <th>dhp</th>\n",
       "    </tr>\n",
       "  </thead>\n",
       "  <tbody>\n",
       "    <tr>\n",
       "      <th>count</th>\n",
       "      <td>327.000000</td>\n",
       "      <td>326.000000</td>\n",
       "    </tr>\n",
       "    <tr>\n",
       "      <th>mean</th>\n",
       "      <td>124660.484465</td>\n",
       "      <td>0.424402</td>\n",
       "    </tr>\n",
       "    <tr>\n",
       "      <th>std</th>\n",
       "      <td>56387.165665</td>\n",
       "      <td>1.114586</td>\n",
       "    </tr>\n",
       "    <tr>\n",
       "      <th>min</th>\n",
       "      <td>49601.664241</td>\n",
       "      <td>-3.464027</td>\n",
       "    </tr>\n",
       "    <tr>\n",
       "      <th>25%</th>\n",
       "      <td>61654.141609</td>\n",
       "      <td>-0.256025</td>\n",
       "    </tr>\n",
       "    <tr>\n",
       "      <th>50%</th>\n",
       "      <td>150946.108249</td>\n",
       "      <td>0.447332</td>\n",
       "    </tr>\n",
       "    <tr>\n",
       "      <th>75%</th>\n",
       "      <td>169239.278727</td>\n",
       "      <td>1.145618</td>\n",
       "    </tr>\n",
       "    <tr>\n",
       "      <th>max</th>\n",
       "      <td>211755.925562</td>\n",
       "      <td>3.731686</td>\n",
       "    </tr>\n",
       "  </tbody>\n",
       "</table>\n",
       "</div>"
      ],
      "text/plain": [
       "       Average House Price         dhp\n",
       "count           327.000000  326.000000\n",
       "mean         124660.484465    0.424402\n",
       "std           56387.165665    1.114586\n",
       "min           49601.664241   -3.464027\n",
       "25%           61654.141609   -0.256025\n",
       "50%          150946.108249    0.447332\n",
       "75%          169239.278727    1.145618\n",
       "max          211755.925562    3.731686"
      ]
     },
     "execution_count": 17,
     "metadata": {},
     "output_type": "execute_result"
    }
   ],
   "source": [
    "data2.describe()"
   ]
  },
  {
   "cell_type": "markdown",
   "id": "ae34de59",
   "metadata": {},
   "source": [
    "It is noted that there are 326 observations for the \"dph\" variable vs that of 327 for \"Average House Price\". A new DataFrame/Series can be created to dump old variables and store new variables for futher analysis. To avoid potentially undesirable errors, any missing values can be dropped by the \"pandas\" function \"dropna\"."
   ]
  },
  {
   "cell_type": "code",
   "execution_count": 18,
   "id": "f9b0943b",
   "metadata": {},
   "outputs": [
    {
     "data": {
      "text/html": [
       "<div>\n",
       "<style scoped>\n",
       "    .dataframe tbody tr th:only-of-type {\n",
       "        vertical-align: middle;\n",
       "    }\n",
       "\n",
       "    .dataframe tbody tr th {\n",
       "        vertical-align: top;\n",
       "    }\n",
       "\n",
       "    .dataframe thead th {\n",
       "        text-align: right;\n",
       "    }\n",
       "</style>\n",
       "<table border=\"1\" class=\"dataframe\">\n",
       "  <thead>\n",
       "    <tr style=\"text-align: right;\">\n",
       "      <th></th>\n",
       "      <th>dhp</th>\n",
       "    </tr>\n",
       "    <tr>\n",
       "      <th>Month</th>\n",
       "      <th></th>\n",
       "    </tr>\n",
       "  </thead>\n",
       "  <tbody>\n",
       "    <tr>\n",
       "      <th>1991-02-01</th>\n",
       "      <td>0.835451</td>\n",
       "    </tr>\n",
       "    <tr>\n",
       "      <th>1991-03-01</th>\n",
       "      <td>-1.135343</td>\n",
       "    </tr>\n",
       "    <tr>\n",
       "      <th>1991-04-01</th>\n",
       "      <td>1.472432</td>\n",
       "    </tr>\n",
       "    <tr>\n",
       "      <th>1991-05-01</th>\n",
       "      <td>1.310903</td>\n",
       "    </tr>\n",
       "    <tr>\n",
       "      <th>1991-06-01</th>\n",
       "      <td>1.318181</td>\n",
       "    </tr>\n",
       "  </tbody>\n",
       "</table>\n",
       "</div>"
      ],
      "text/plain": [
       "                 dhp\n",
       "Month               \n",
       "1991-02-01  0.835451\n",
       "1991-03-01 -1.135343\n",
       "1991-04-01  1.472432\n",
       "1991-05-01  1.310903\n",
       "1991-06-01  1.318181"
      ]
     },
     "execution_count": 18,
     "metadata": {},
     "output_type": "execute_result"
    }
   ],
   "source": [
    "# Create a new dataframe and drop the missing value\n",
    "\n",
    "data_dhp = pd.DataFrame({'dhp':LogDiff(data2['Average House Price'])})\n",
    "data_dhp = data_dhp.dropna()\n",
    "data_dhp.head()"
   ]
  },
  {
   "cell_type": "markdown",
   "id": "c9357008",
   "metadata": {},
   "source": [
    "#### Plots"
   ]
  },
  {
   "cell_type": "markdown",
   "id": "5adb5bab",
   "metadata": {},
   "source": [
    "The library \"matplotlib.pyplot\" is used to create various plots. It has been imported at the beginning of this document."
   ]
  },
  {
   "cell_type": "code",
   "execution_count": 19,
   "id": "7f0414f7",
   "metadata": {},
   "outputs": [
    {
     "data": {
      "image/png": "[encoded data removed]",
      "text/plain": [
       "<Figure size 1440x720 with 1 Axes>"
      ]
     },
     "metadata": {
      "needs_background": "light"
     },
     "output_type": "display_data"
    }
   ],
   "source": [
    "# Create line plot\n",
    "\n",
    "plt.figure(1,figsize=(20,10))\n",
    "plt.plot(data2['Average House Price'], label='hp')\n",
    "\n",
    "plt.xlabel('Date')\n",
    "plt.ylabel('Average House Price')\n",
    "plt.title('Graph')\n",
    "plt. grid(True)\n",
    "\n",
    "plt.legend()\n",
    "plt.show()"
   ]
  },
  {
   "cell_type": "code",
   "execution_count": 20,
   "id": "63bafa9c",
   "metadata": {},
   "outputs": [
    {
     "data": {
      "image/png": "[encoded data removed]",
      "text/plain": [
       "<Figure size 1440x720 with 1 Axes>"
      ]
     },
     "metadata": {
      "needs_background": "light"
     },
     "output_type": "display_data"
    }
   ],
   "source": [
    "# Create histogram\n",
    "\n",
    "plt.figure(2,figsize=(20,10))\n",
    "plt.hist(data_dhp['dhp'], 20, edgecolor='black', linewidth=1.2)\n",
    "plt.xlabel('dhp')\n",
    "plt.ylabel('Density')\n",
    "plt.title('Histogram')\n",
    "plt.show()"
   ]
  },
  {
   "cell_type": "markdown",
   "id": "b0bf4f9c",
   "metadata": {},
   "source": [
    "### Saving data and results"
   ]
  },
  {
   "cell_type": "markdown",
   "id": "18ce1b76",
   "metadata": {},
   "source": [
    "#### Saving data to excel file"
   ]
  },
  {
   "cell_type": "code",
   "execution_count": 21,
   "id": "4f48eaf5",
   "metadata": {},
   "outputs": [
    {
     "name": "stderr",
     "output_type": "stream",
     "text": [
      "C:\\Users\\andyw\\AppData\\Local\\Temp/ipykernel_23248/3181175162.py:3: FutureWarning: As the xlwt package is no longer maintained, the xlwt engine will be removed in a future version of pandas. This is the only engine in pandas that supports writing in the xls format. Install openpyxl and write to an xlsx file instead. You can set the option io.excel.xls.writer to 'xlwt' to silence this warning. While this option is deprecated and will also raise a warning, it can be globally set and the warning suppressed.\n",
      "  data2.to_excel('D:/OneDrive/Data/Brooks4e/Work/UKHP_workfile.xls')\n"
     ]
    }
   ],
   "source": [
    "# Saving data to excel file\n",
    "\n",
    "data2.to_excel('D:/OneDrive/Data/Brooks4e/Work/UKHP_workfile.xls')"
   ]
  },
  {
   "cell_type": "markdown",
   "id": "cae87840",
   "metadata": {},
   "source": [
    "#### Saving data to Python workfile using library \"pickle\""
   ]
  },
  {
   "cell_type": "markdown",
   "id": "50fb56d7",
   "metadata": {},
   "source": [
    "Data can be saved as Python workfile which can be reused later by loading that Python workfile. The library used here is \"pickle\" which has been imported at the beginning of this document."
   ]
  },
  {
   "cell_type": "code",
   "execution_count": 22,
   "id": "8e1a64ae",
   "metadata": {},
   "outputs": [],
   "source": [
    "# Saving data to a Python workfile\n",
    "# The source is the datafrom \"data2\", which is the data of UKPH.xls imported above\n",
    "# The target Python workfile is \"UKHP.pickle\", which will be saved at the sub-directory \"Work\"\n",
    "\n",
    "with open('D:/OneDrive/Data/Brooks4e/Work/UKHP.pickle', 'wb') as handle:\n",
    "    pickle.dump(data2, handle)"
   ]
  },
  {
   "cell_type": "markdown",
   "id": "d4d90f69",
   "metadata": {},
   "source": [
    "A physical file \"UKHP.pickle\" has been created and stored at the sub-directory \"Work\". This Python workfile will be used in later chapter."
   ]
  },
  {
   "cell_type": "markdown",
   "id": "e46fd656",
   "metadata": {},
   "source": [
    "To load a Python workfile, use the following commands."
   ]
  },
  {
   "cell_type": "code",
   "execution_count": 23,
   "id": "1e97e814",
   "metadata": {},
   "outputs": [],
   "source": [
    "# Load a Python workfile\n",
    "\n",
    "with open('D:/OneDrive/Data/Brooks4e/Work/UKHP.pickle', 'rb') as handle:\n",
    "    pickle_data = pickle.load(handle)"
   ]
  },
  {
   "cell_type": "code",
   "execution_count": 24,
   "id": "bc17bc5b",
   "metadata": {},
   "outputs": [
    {
     "data": {
      "text/html": [
       "<div>\n",
       "<style scoped>\n",
       "    .dataframe tbody tr th:only-of-type {\n",
       "        vertical-align: middle;\n",
       "    }\n",
       "\n",
       "    .dataframe tbody tr th {\n",
       "        vertical-align: top;\n",
       "    }\n",
       "\n",
       "    .dataframe thead th {\n",
       "        text-align: right;\n",
       "    }\n",
       "</style>\n",
       "<table border=\"1\" class=\"dataframe\">\n",
       "  <thead>\n",
       "    <tr style=\"text-align: right;\">\n",
       "      <th></th>\n",
       "      <th>Average House Price</th>\n",
       "      <th>dhp</th>\n",
       "    </tr>\n",
       "  </thead>\n",
       "  <tbody>\n",
       "    <tr>\n",
       "      <th>count</th>\n",
       "      <td>327.000000</td>\n",
       "      <td>326.000000</td>\n",
       "    </tr>\n",
       "    <tr>\n",
       "      <th>mean</th>\n",
       "      <td>124660.484465</td>\n",
       "      <td>0.424402</td>\n",
       "    </tr>\n",
       "    <tr>\n",
       "      <th>std</th>\n",
       "      <td>56387.165665</td>\n",
       "      <td>1.114586</td>\n",
       "    </tr>\n",
       "    <tr>\n",
       "      <th>min</th>\n",
       "      <td>49601.664241</td>\n",
       "      <td>-3.464027</td>\n",
       "    </tr>\n",
       "    <tr>\n",
       "      <th>25%</th>\n",
       "      <td>61654.141609</td>\n",
       "      <td>-0.256025</td>\n",
       "    </tr>\n",
       "    <tr>\n",
       "      <th>50%</th>\n",
       "      <td>150946.108249</td>\n",
       "      <td>0.447332</td>\n",
       "    </tr>\n",
       "    <tr>\n",
       "      <th>75%</th>\n",
       "      <td>169239.278727</td>\n",
       "      <td>1.145618</td>\n",
       "    </tr>\n",
       "    <tr>\n",
       "      <th>max</th>\n",
       "      <td>211755.925562</td>\n",
       "      <td>3.731686</td>\n",
       "    </tr>\n",
       "  </tbody>\n",
       "</table>\n",
       "</div>"
      ],
      "text/plain": [
       "       Average House Price         dhp\n",
       "count           327.000000  326.000000\n",
       "mean         124660.484465    0.424402\n",
       "std           56387.165665    1.114586\n",
       "min           49601.664241   -3.464027\n",
       "25%           61654.141609   -0.256025\n",
       "50%          150946.108249    0.447332\n",
       "75%          169239.278727    1.145618\n",
       "max          211755.925562    3.731686"
      ]
     },
     "execution_count": 24,
     "metadata": {},
     "output_type": "execute_result"
    }
   ],
   "source": [
    "pickle_data.describe()"
   ]
  },
  {
   "cell_type": "markdown",
   "id": "4baf45a1",
   "metadata": {},
   "source": [
    "It is noted that the \"pickle_data\" is the same as \"data2\"."
   ]
  }
 ],
 "metadata": {
  "kernelspec": {
   "display_name": "Python 3 (ipykernel)",
   "language": "python",
   "name": "python3"
  },
  "language_info": {
   "codemirror_mode": {
    "name": "ipython",
    "version": 3
   },
   "file_extension": ".py",
   "mimetype": "text/x-python",
   "name": "python",
   "nbconvert_exporter": "python",
   "pygments_lexer": "ipython3",
   "version": "3.8.8"
  }
 },
 "nbformat": 4,
 "nbformat_minor": 5
}

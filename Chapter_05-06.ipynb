{
 "cells": [
  {
   "cell_type": "markdown",
   "id": "02a4e974",
   "metadata": {},
   "source": [
    "# Chapter 5 and 6: Estimation and hypothesis testing: the CAPM"
   ]
  },
  {
   "cell_type": "code",
   "execution_count": 1,
   "id": "a922c6cd",
   "metadata": {},
   "outputs": [],
   "source": [
    "# Import the required libraries\n",
    "\n",
    "import pandas as pd\n",
    "import numpy as np\n",
    "import statsmodels.formula.api as smf  # to perform the econometric tests\n",
    "import matplotlib.pyplot as plt\n",
    "import pickle                          # to save and re-load a Python workfile"
   ]
  },
  {
   "cell_type": "markdown",
   "id": "9c35442e",
   "metadata": {},
   "source": [
    "### Creating a dataset \"data\" and save it to a Python workfile \"capm.pickle\""
   ]
  },
  {
   "cell_type": "code",
   "execution_count": 3,
   "id": "cc46aac2",
   "metadata": {},
   "outputs": [
    {
     "data": {
      "text/html": [
       "<div>\n",
       "<style scoped>\n",
       "    .dataframe tbody tr th:only-of-type {\n",
       "        vertical-align: middle;\n",
       "    }\n",
       "\n",
       "    .dataframe tbody tr th {\n",
       "        vertical-align: top;\n",
       "    }\n",
       "\n",
       "    .dataframe thead th {\n",
       "        text-align: right;\n",
       "    }\n",
       "</style>\n",
       "<table border=\"1\" class=\"dataframe\">\n",
       "  <thead>\n",
       "    <tr style=\"text-align: right;\">\n",
       "      <th></th>\n",
       "      <th>SANDP</th>\n",
       "      <th>FORD</th>\n",
       "      <th>GE</th>\n",
       "      <th>MICROSOFT</th>\n",
       "      <th>ORACLE</th>\n",
       "      <th>USTB3M</th>\n",
       "    </tr>\n",
       "    <tr>\n",
       "      <th>Date</th>\n",
       "      <th></th>\n",
       "      <th></th>\n",
       "      <th></th>\n",
       "      <th></th>\n",
       "      <th></th>\n",
       "      <th></th>\n",
       "    </tr>\n",
       "  </thead>\n",
       "  <tbody>\n",
       "    <tr>\n",
       "      <th>2002-01-01</th>\n",
       "      <td>1130.199951</td>\n",
       "      <td>15.30</td>\n",
       "      <td>37.150002</td>\n",
       "      <td>31.855000</td>\n",
       "      <td>17.260000</td>\n",
       "      <td>1.68</td>\n",
       "    </tr>\n",
       "    <tr>\n",
       "      <th>2002-02-01</th>\n",
       "      <td>1106.729980</td>\n",
       "      <td>14.88</td>\n",
       "      <td>38.500000</td>\n",
       "      <td>29.170000</td>\n",
       "      <td>16.620001</td>\n",
       "      <td>1.76</td>\n",
       "    </tr>\n",
       "    <tr>\n",
       "      <th>2002-03-01</th>\n",
       "      <td>1147.390015</td>\n",
       "      <td>16.49</td>\n",
       "      <td>37.400002</td>\n",
       "      <td>30.155001</td>\n",
       "      <td>12.800000</td>\n",
       "      <td>1.83</td>\n",
       "    </tr>\n",
       "    <tr>\n",
       "      <th>2002-04-01</th>\n",
       "      <td>1076.920044</td>\n",
       "      <td>16.00</td>\n",
       "      <td>31.549999</td>\n",
       "      <td>26.129999</td>\n",
       "      <td>10.040000</td>\n",
       "      <td>1.75</td>\n",
       "    </tr>\n",
       "    <tr>\n",
       "      <th>2002-05-01</th>\n",
       "      <td>1067.140015</td>\n",
       "      <td>17.65</td>\n",
       "      <td>31.139999</td>\n",
       "      <td>25.455000</td>\n",
       "      <td>7.920000</td>\n",
       "      <td>1.76</td>\n",
       "    </tr>\n",
       "  </tbody>\n",
       "</table>\n",
       "</div>"
      ],
      "text/plain": [
       "                  SANDP   FORD         GE  MICROSOFT     ORACLE  USTB3M\n",
       "Date                                                                   \n",
       "2002-01-01  1130.199951  15.30  37.150002  31.855000  17.260000    1.68\n",
       "2002-02-01  1106.729980  14.88  38.500000  29.170000  16.620001    1.76\n",
       "2002-03-01  1147.390015  16.49  37.400002  30.155001  12.800000    1.83\n",
       "2002-04-01  1076.920044  16.00  31.549999  26.129999  10.040000    1.75\n",
       "2002-05-01  1067.140015  17.65  31.139999  25.455000   7.920000    1.76"
      ]
     },
     "execution_count": 3,
     "metadata": {},
     "output_type": "execute_result"
    }
   ],
   "source": [
    "abspath = 'D:/OneDrive/Data/Brooks4e/'\n",
    "data = pd.read_excel(abspath + 'capm.xls', index_col=0)\n",
    "data.head()"
   ]
  },
  {
   "cell_type": "code",
   "execution_count": 4,
   "id": "5df31d6b",
   "metadata": {},
   "outputs": [],
   "source": [
    "# Create a user-defined function to calculate logarithmic returns\n",
    "\n",
    "def LogDiff(x):\n",
    "    x_diff = 100*np.log(x/x.shift(1))\n",
    "    x_diff = x_diff.dropna()\n",
    "    return x_diff"
   ]
  },
  {
   "cell_type": "code",
   "execution_count": 5,
   "id": "d9a85d32",
   "metadata": {},
   "outputs": [
    {
     "data": {
      "text/html": [
       "<div>\n",
       "<style scoped>\n",
       "    .dataframe tbody tr th:only-of-type {\n",
       "        vertical-align: middle;\n",
       "    }\n",
       "\n",
       "    .dataframe tbody tr th {\n",
       "        vertical-align: top;\n",
       "    }\n",
       "\n",
       "    .dataframe thead th {\n",
       "        text-align: right;\n",
       "    }\n",
       "</style>\n",
       "<table border=\"1\" class=\"dataframe\">\n",
       "  <thead>\n",
       "    <tr style=\"text-align: right;\">\n",
       "      <th></th>\n",
       "      <th>ret_sandp</th>\n",
       "      <th>ret_ford</th>\n",
       "      <th>USTB3M</th>\n",
       "      <th>ersandp</th>\n",
       "      <th>erford</th>\n",
       "    </tr>\n",
       "    <tr>\n",
       "      <th>Date</th>\n",
       "      <th></th>\n",
       "      <th></th>\n",
       "      <th></th>\n",
       "      <th></th>\n",
       "      <th></th>\n",
       "    </tr>\n",
       "  </thead>\n",
       "  <tbody>\n",
       "    <tr>\n",
       "      <th>2002-01-01</th>\n",
       "      <td>NaN</td>\n",
       "      <td>NaN</td>\n",
       "      <td>0.140000</td>\n",
       "      <td>NaN</td>\n",
       "      <td>NaN</td>\n",
       "    </tr>\n",
       "    <tr>\n",
       "      <th>2002-02-01</th>\n",
       "      <td>-2.098486</td>\n",
       "      <td>-2.783480</td>\n",
       "      <td>0.146667</td>\n",
       "      <td>-2.245153</td>\n",
       "      <td>-2.930147</td>\n",
       "    </tr>\n",
       "    <tr>\n",
       "      <th>2002-03-01</th>\n",
       "      <td>3.608011</td>\n",
       "      <td>10.273611</td>\n",
       "      <td>0.152500</td>\n",
       "      <td>3.455511</td>\n",
       "      <td>10.121111</td>\n",
       "    </tr>\n",
       "    <tr>\n",
       "      <th>2002-04-01</th>\n",
       "      <td>-6.338466</td>\n",
       "      <td>-3.016541</td>\n",
       "      <td>0.145833</td>\n",
       "      <td>-6.484299</td>\n",
       "      <td>-3.162375</td>\n",
       "    </tr>\n",
       "    <tr>\n",
       "      <th>2002-05-01</th>\n",
       "      <td>-0.912297</td>\n",
       "      <td>9.814706</td>\n",
       "      <td>0.146667</td>\n",
       "      <td>-1.058964</td>\n",
       "      <td>9.668039</td>\n",
       "    </tr>\n",
       "  </tbody>\n",
       "</table>\n",
       "</div>"
      ],
      "text/plain": [
       "            ret_sandp   ret_ford    USTB3M   ersandp     erford\n",
       "Date                                                           \n",
       "2002-01-01        NaN        NaN  0.140000       NaN        NaN\n",
       "2002-02-01  -2.098486  -2.783480  0.146667 -2.245153  -2.930147\n",
       "2002-03-01   3.608011  10.273611  0.152500  3.455511  10.121111\n",
       "2002-04-01  -6.338466  -3.016541  0.145833 -6.484299  -3.162375\n",
       "2002-05-01  -0.912297   9.814706  0.146667 -1.058964   9.668039"
      ]
     },
     "execution_count": 5,
     "metadata": {},
     "output_type": "execute_result"
    }
   ],
   "source": [
    "data = pd.DataFrame({'ret_sandp': LogDiff(data['SANDP']),\n",
    "                    'ret_ford': LogDiff(data['FORD']),\n",
    "                    'USTB3M': data['USTB3M']/12,\n",
    "                    'ersandp': LogDiff(data['SANDP']) - data['USTB3M']/12,\n",
    "                    'erford': LogDiff(data['FORD']) - data['USTB3M']/12})\n",
    "data.head()"
   ]
  },
  {
   "cell_type": "code",
   "execution_count": 6,
   "id": "e47eecbc",
   "metadata": {},
   "outputs": [],
   "source": [
    "# Save a Python workfile using \"pickle\" library\n",
    "# The file capm.pickle is created at the specified directory\n",
    "\n",
    "with open(abspath + '/Work/capm.pickle', 'wb') as handle:\n",
    "    pickle.dump(data, handle)"
   ]
  },
  {
   "cell_type": "markdown",
   "id": "9f616f77",
   "metadata": {},
   "source": [
    "### Preliminary plots of the dataset"
   ]
  },
  {
   "cell_type": "code",
   "execution_count": 7,
   "id": "33694829",
   "metadata": {},
   "outputs": [
    {
     "data": {
      "image/png": "[encoded data removed]",
      "text/plain": [
       "<Figure size 432x288 with 1 Axes>"
      ]
     },
     "metadata": {
      "needs_background": "light"
     },
     "output_type": "display_data"
    }
   ],
   "source": [
    "# Plot two series on the same graph\n",
    "\n",
    "plt.figure(1)                  # Define a new figure object in default setting\n",
    "plt.plot(data['ersandp'], label='Returns on S&P')\n",
    "plt.plot(data['erford'], label='Returns on Ford')\n",
    "\n",
    "plt.xlabel('Date')\n",
    "plt.ylabel('Returns on S&P / FORD')\n",
    "plt.title('Returns on S&P / FORD')\n",
    "plt. grid(True)\n",
    "\n",
    "plt.legend()\n",
    "plt.show()"
   ]
  },
  {
   "cell_type": "code",
   "execution_count": 8,
   "id": "7bd2e269",
   "metadata": {},
   "outputs": [
    {
     "data": {
      "image/png": "[encoded data removed]",
      "text/plain": [
       "<Figure size 432x288 with 1 Axes>"
      ]
     },
     "metadata": {
      "needs_background": "light"
     },
     "output_type": "display_data"
    }
   ],
   "source": [
    "# Plot scatter plots of two series\n",
    "\n",
    "plt.figure(2)\n",
    "plt.scatter(data['ersandp'], data['erford'])\n",
    "\n",
    "plt.xlabel('Returns on S&P')\n",
    "plt.ylabel('Returns on FORD')\n",
    "plt.title('Scatter plot of Returns on S&P and FORD')\n",
    "plt.grid(True)\n",
    "\n",
    "plt.show()"
   ]
  },
  {
   "cell_type": "markdown",
   "id": "a1cf6d08",
   "metadata": {},
   "source": [
    "### Estimating the CAPM equation and performing hypothesis test"
   ]
  },
  {
   "cell_type": "code",
   "execution_count": 9,
   "id": "cd5487b5",
   "metadata": {},
   "outputs": [
    {
     "name": "stdout",
     "output_type": "stream",
     "text": [
      "                            OLS Regression Results                            \n",
      "==============================================================================\n",
      "Dep. Variable:                 erford   R-squared:                       0.337\n",
      "Model:                            OLS   Adj. R-squared:                  0.334\n",
      "Method:                 Least Squares   F-statistic:                     97.26\n",
      "Date:                Thu, 23 Dec 2021   Prob (F-statistic):           8.36e-19\n",
      "Time:                        21:51:18   Log-Likelihood:                -735.26\n",
      "No. Observations:                 193   AIC:                             1475.\n",
      "Df Residuals:                     191   BIC:                             1481.\n",
      "Df Model:                           1                                         \n",
      "Covariance Type:            nonrobust                                         \n",
      "==============================================================================\n",
      "                 coef    std err          t      P>|t|      [0.025      0.975]\n",
      "------------------------------------------------------------------------------\n",
      "Intercept     -0.9560      0.793     -1.205      0.230      -2.520       0.608\n",
      "ersandp        1.8898      0.192      9.862      0.000       1.512       2.268\n",
      "==============================================================================\n",
      "Omnibus:                       71.412   Durbin-Watson:                   2.518\n",
      "Prob(Omnibus):                  0.000   Jarque-Bera (JB):              677.387\n",
      "Skew:                           1.079   Prob(JB):                    8.08e-148\n",
      "Kurtosis:                      11.921   Cond. No.                         4.16\n",
      "==============================================================================\n",
      "\n",
      "Notes:\n",
      "[1] Standard Errors assume that the covariance matrix of the errors is correctly specified.\n"
     ]
    }
   ],
   "source": [
    "# Estimating the CAPM equation for FORD\n",
    "\n",
    "formula = 'erford ~ ersandp'\n",
    "results = smf.ols(formula, data).fit()\n",
    "print(results.summary())"
   ]
  },
  {
   "cell_type": "code",
   "execution_count": 10,
   "id": "f3447041",
   "metadata": {},
   "outputs": [
    {
     "name": "stdout",
     "output_type": "stream",
     "text": [
      "<F test: F=array([[21.5604412]]), p=6.36532103603562e-06, df_denom=191, df_num=1>\n"
     ]
    }
   ],
   "source": [
    "# F-test: hypothesis testing that beta = 1\n",
    "\n",
    "hypotheses = 'ersandp = 1'\n",
    "f_test = results.f_test(hypotheses)\n",
    "print(f_test)"
   ]
  },
  {
   "cell_type": "markdown",
   "id": "6ef10f36",
   "metadata": {},
   "source": [
    "### Demonstrating re-loading a Python workfile and performing multiple hypothesis tests "
   ]
  },
  {
   "cell_type": "code",
   "execution_count": 11,
   "id": "6963e223",
   "metadata": {},
   "outputs": [],
   "source": [
    "# Re-load a Python workfile using \"pickle\"\n",
    "\n",
    "with open(abspath + '/Work/capm.pickle', 'rb') as handle:\n",
    "    pickle_data = pickle.load(handle)"
   ]
  },
  {
   "cell_type": "code",
   "execution_count": 12,
   "id": "eb4eb70e",
   "metadata": {},
   "outputs": [
    {
     "name": "stdout",
     "output_type": "stream",
     "text": [
      "<F test: F=array([[12.9437402]]), p=5.349256152606693e-06, df_denom=191, df_num=2>\n"
     ]
    }
   ],
   "source": [
    "# F-test: multiple hypothesis tests\n",
    "# Conduct a joint test that both the intercept and slope parameters are one\n",
    "\n",
    "formula = 'erford ~ ersandp'\n",
    "hypotheses = 'ersandp = Intercept = 1'\n",
    "\n",
    "results = smf.ols (formula, pickle_data).fit()\n",
    "f_test = results.f_test(hypotheses)\n",
    "print(f_test)"
   ]
  },
  {
   "cell_type": "code",
   "execution_count": null,
   "id": "12dddd8d",
   "metadata": {},
   "outputs": [],
   "source": []
  }
 ],
 "metadata": {
  "kernelspec": {
   "display_name": "Python 3 (ipykernel)",
   "language": "python",
   "name": "python3"
  },
  "language_info": {
   "codemirror_mode": {
    "name": "ipython",
    "version": 3
   },
   "file_extension": ".py",
   "mimetype": "text/x-python",
   "name": "python",
   "nbconvert_exporter": "python",
   "pygments_lexer": "ipython3",
   "version": "3.8.8"
  }
 },
 "nbformat": 4,
 "nbformat_minor": 5
}

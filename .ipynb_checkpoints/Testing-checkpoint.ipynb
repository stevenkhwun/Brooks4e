{
 "cells": [
  {
   "cell_type": "markdown",
   "id": "643547c0-f8e7-4697-b318-caa84580ae1b",
   "metadata": {},
   "source": [
    "# This file is for testing only, can be deleted."
   ]
  },
  {
   "cell_type": "code",
   "execution_count": null,
   "id": "0c1bcd20-8918-4232-85b4-d9f3746f7af8",
   "metadata": {},
   "outputs": [],
   "source": []
  }
 ],
 "metadata": {
  "kernelspec": {
   "display_name": "Python 3 (ipykernel)",
   "language": "python",
   "name": "python3"
  },
  "language_info": {
   "codemirror_mode": {
    "name": "ipython",
    "version": 3
   },
   "file_extension": ".py",
   "mimetype": "text/x-python",
   "name": "python",
   "nbconvert_exporter": "python",
   "pygments_lexer": "ipython3",
   "version": "3.9.5"
  }
 },
 "nbformat": 4,
 "nbformat_minor": 5
}

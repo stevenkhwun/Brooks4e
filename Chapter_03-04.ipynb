{
 "cells": [
  {
   "cell_type": "code",
   "execution_count": 1,
   "id": "a922c6cd",
   "metadata": {},
   "outputs": [],
   "source": [
    "import pandas as pd\n",
    "import numpy as np\n",
    "import statsmodels.formula.api as smf       # to perform the econometric tests"
   ]
  },
  {
   "cell_type": "code",
   "execution_count": 3,
   "id": "cc46aac2",
   "metadata": {},
   "outputs": [
    {
     "data": {
      "text/html": [
       "<div>\n",
       "<style scoped>\n",
       "    .dataframe tbody tr th:only-of-type {\n",
       "        vertical-align: middle;\n",
       "    }\n",
       "\n",
       "    .dataframe tbody tr th {\n",
       "        vertical-align: top;\n",
       "    }\n",
       "\n",
       "    .dataframe thead th {\n",
       "        text-align: right;\n",
       "    }\n",
       "</style>\n",
       "<table border=\"1\" class=\"dataframe\">\n",
       "  <thead>\n",
       "    <tr style=\"text-align: right;\">\n",
       "      <th></th>\n",
       "      <th>Spot</th>\n",
       "      <th>Futures</th>\n",
       "    </tr>\n",
       "    <tr>\n",
       "      <th>Date</th>\n",
       "      <th></th>\n",
       "      <th></th>\n",
       "    </tr>\n",
       "  </thead>\n",
       "  <tbody>\n",
       "    <tr>\n",
       "      <th>1997-09-01</th>\n",
       "      <td>947.280029</td>\n",
       "      <td>954.50</td>\n",
       "    </tr>\n",
       "    <tr>\n",
       "      <th>1997-10-01</th>\n",
       "      <td>914.619995</td>\n",
       "      <td>924.00</td>\n",
       "    </tr>\n",
       "    <tr>\n",
       "      <th>1997-11-01</th>\n",
       "      <td>955.400024</td>\n",
       "      <td>955.00</td>\n",
       "    </tr>\n",
       "    <tr>\n",
       "      <th>1997-12-01</th>\n",
       "      <td>970.429993</td>\n",
       "      <td>979.25</td>\n",
       "    </tr>\n",
       "    <tr>\n",
       "      <th>1998-01-01</th>\n",
       "      <td>980.280029</td>\n",
       "      <td>987.75</td>\n",
       "    </tr>\n",
       "  </tbody>\n",
       "</table>\n",
       "</div>"
      ],
      "text/plain": [
       "                  Spot  Futures\n",
       "Date                           \n",
       "1997-09-01  947.280029   954.50\n",
       "1997-10-01  914.619995   924.00\n",
       "1997-11-01  955.400024   955.00\n",
       "1997-12-01  970.429993   979.25\n",
       "1998-01-01  980.280029   987.75"
      ]
     },
     "execution_count": 3,
     "metadata": {},
     "output_type": "execute_result"
    }
   ],
   "source": [
    "abspath = 'D:/OneDrive/Data/Brooks4e/'\n",
    "data = pd.read_excel(abspath + 'SandPhedge.xls', index_col=0)\n",
    "data.head()"
   ]
  },
  {
   "cell_type": "code",
   "execution_count": 4,
   "id": "1cd6e741",
   "metadata": {},
   "outputs": [
    {
     "name": "stdout",
     "output_type": "stream",
     "text": [
      "                            OLS Regression Results                            \n",
      "==============================================================================\n",
      "Dep. Variable:                   Spot   R-squared:                       1.000\n",
      "Model:                            OLS   Adj. R-squared:                  1.000\n",
      "Method:                 Least Squares   F-statistic:                 1.005e+06\n",
      "Date:                Thu, 23 Dec 2021   Prob (F-statistic):               0.00\n",
      "Time:                        21:48:06   Log-Likelihood:                -826.86\n",
      "No. Observations:                 247   AIC:                             1658.\n",
      "Df Residuals:                     245   BIC:                             1665.\n",
      "Df Model:                           1                                         \n",
      "Covariance Type:            nonrobust                                         \n",
      "==============================================================================\n",
      "                 coef    std err          t      P>|t|      [0.025      0.975]\n",
      "------------------------------------------------------------------------------\n",
      "Intercept     -2.8378      1.489     -1.906      0.058      -5.771       0.095\n",
      "Futures        1.0016      0.001   1002.331      0.000       1.000       1.004\n",
      "==============================================================================\n",
      "Omnibus:                      245.415   Durbin-Watson:                   1.326\n",
      "Prob(Omnibus):                  0.000   Jarque-Bera (JB):            10091.673\n",
      "Skew:                          -3.814   Prob(JB):                         0.00\n",
      "Kurtosis:                      33.371   Cond. No.                     5.05e+03\n",
      "==============================================================================\n",
      "\n",
      "Notes:\n",
      "[1] Standard Errors assume that the covariance matrix of the errors is correctly specified.\n",
      "[2] The condition number is large, 5.05e+03. This might indicate that there are\n",
      "strong multicollinearity or other numerical problems.\n"
     ]
    }
   ],
   "source": [
    "# Linear regression with constant term\n",
    "formula = 'Spot ~ Futures'\n",
    "results = smf.ols(formula, data).fit()\n",
    "print(results.summary())"
   ]
  },
  {
   "cell_type": "code",
   "execution_count": 5,
   "id": "3e097507",
   "metadata": {},
   "outputs": [
    {
     "name": "stdout",
     "output_type": "stream",
     "text": [
      "<F test: F=array([[2.58463856]]), p=0.10919294686216163, df_denom=245, df_num=1>\n"
     ]
    }
   ],
   "source": [
    "# To test the null hypothesis that beta = 1\n",
    "hypotheses = 'Futures = 1'\n",
    "f_test = results.f_test(hypotheses)\n",
    "print(f_test)"
   ]
  },
  {
   "cell_type": "code",
   "execution_count": 6,
   "id": "42348ae9",
   "metadata": {},
   "outputs": [
    {
     "name": "stdout",
     "output_type": "stream",
     "text": [
      "                                 OLS Regression Results                                \n",
      "=======================================================================================\n",
      "Dep. Variable:                   Spot   R-squared (uncentered):                   1.000\n",
      "Model:                            OLS   Adj. R-squared (uncentered):              1.000\n",
      "Method:                 Least Squares   F-statistic:                          1.136e+07\n",
      "Date:                Thu, 23 Dec 2021   Prob (F-statistic):                        0.00\n",
      "Time:                        21:48:18   Log-Likelihood:                         -828.68\n",
      "No. Observations:                 247   AIC:                                      1659.\n",
      "Df Residuals:                     246   BIC:                                      1663.\n",
      "Df Model:                           1                                                  \n",
      "Covariance Type:            nonrobust                                                  \n",
      "==============================================================================\n",
      "                 coef    std err          t      P>|t|      [0.025      0.975]\n",
      "------------------------------------------------------------------------------\n",
      "Futures        0.9998      0.000   3371.079      0.000       0.999       1.000\n",
      "==============================================================================\n",
      "Omnibus:                      224.561   Durbin-Watson:                   1.299\n",
      "Prob(Omnibus):                  0.000   Jarque-Bera (JB):             7234.482\n",
      "Skew:                          -3.395   Prob(JB):                         0.00\n",
      "Kurtosis:                      28.629   Cond. No.                         1.00\n",
      "==============================================================================\n",
      "\n",
      "Notes:\n",
      "[1] R² is computed without centering (uncentered) since the model does not contain a constant.\n",
      "[2] Standard Errors assume that the covariance matrix of the errors is correctly specified.\n"
     ]
    }
   ],
   "source": [
    "# Linear regression WITHOUT constant term\n",
    "formula1 = 'Spot ~ Futures - 1'         # Specify the formula without the constant term\n",
    "results1 = smf.ols(formula1, data).fit()\n",
    "print(results1.summary())"
   ]
  },
  {
   "cell_type": "code",
   "execution_count": 7,
   "id": "3933eb97",
   "metadata": {},
   "outputs": [],
   "source": [
    "# Create a user-defined function to calculate logarithmic returns\n",
    "def LogDiff(x):\n",
    "    x_diff = 100*np.log(x/x.shift(1))\n",
    "    x_diff = x_diff.dropna()\n",
    "    return x_diff"
   ]
  },
  {
   "cell_type": "code",
   "execution_count": 8,
   "id": "9e625396",
   "metadata": {},
   "outputs": [
    {
     "data": {
      "text/html": [
       "<div>\n",
       "<style scoped>\n",
       "    .dataframe tbody tr th:only-of-type {\n",
       "        vertical-align: middle;\n",
       "    }\n",
       "\n",
       "    .dataframe tbody tr th {\n",
       "        vertical-align: top;\n",
       "    }\n",
       "\n",
       "    .dataframe thead th {\n",
       "        text-align: right;\n",
       "    }\n",
       "</style>\n",
       "<table border=\"1\" class=\"dataframe\">\n",
       "  <thead>\n",
       "    <tr style=\"text-align: right;\">\n",
       "      <th></th>\n",
       "      <th>ret_spot</th>\n",
       "      <th>ret_future</th>\n",
       "    </tr>\n",
       "    <tr>\n",
       "      <th>Date</th>\n",
       "      <th></th>\n",
       "      <th></th>\n",
       "    </tr>\n",
       "  </thead>\n",
       "  <tbody>\n",
       "    <tr>\n",
       "      <th>1997-10-01</th>\n",
       "      <td>-3.508608</td>\n",
       "      <td>-3.247557</td>\n",
       "    </tr>\n",
       "    <tr>\n",
       "      <th>1997-11-01</th>\n",
       "      <td>4.362145</td>\n",
       "      <td>3.299927</td>\n",
       "    </tr>\n",
       "    <tr>\n",
       "      <th>1997-12-01</th>\n",
       "      <td>1.560914</td>\n",
       "      <td>2.507563</td>\n",
       "    </tr>\n",
       "    <tr>\n",
       "      <th>1998-01-01</th>\n",
       "      <td>1.009901</td>\n",
       "      <td>0.864266</td>\n",
       "    </tr>\n",
       "    <tr>\n",
       "      <th>1998-02-01</th>\n",
       "      <td>6.807837</td>\n",
       "      <td>6.159189</td>\n",
       "    </tr>\n",
       "  </tbody>\n",
       "</table>\n",
       "</div>"
      ],
      "text/plain": [
       "            ret_spot  ret_future\n",
       "Date                            \n",
       "1997-10-01 -3.508608   -3.247557\n",
       "1997-11-01  4.362145    3.299927\n",
       "1997-12-01  1.560914    2.507563\n",
       "1998-01-01  1.009901    0.864266\n",
       "1998-02-01  6.807837    6.159189"
      ]
     },
     "execution_count": 8,
     "metadata": {},
     "output_type": "execute_result"
    }
   ],
   "source": [
    "# Create a new dataframe for returns of spot and futures\n",
    "data = pd.DataFrame({'ret_spot': LogDiff(data['Spot']),\n",
    "                    'ret_future': LogDiff(data['Futures'])})\n",
    "data.head()"
   ]
  },
  {
   "cell_type": "code",
   "execution_count": 9,
   "id": "273be245",
   "metadata": {},
   "outputs": [
    {
     "data": {
      "text/html": [
       "<div>\n",
       "<style scoped>\n",
       "    .dataframe tbody tr th:only-of-type {\n",
       "        vertical-align: middle;\n",
       "    }\n",
       "\n",
       "    .dataframe tbody tr th {\n",
       "        vertical-align: top;\n",
       "    }\n",
       "\n",
       "    .dataframe thead th {\n",
       "        text-align: right;\n",
       "    }\n",
       "</style>\n",
       "<table border=\"1\" class=\"dataframe\">\n",
       "  <thead>\n",
       "    <tr style=\"text-align: right;\">\n",
       "      <th></th>\n",
       "      <th>ret_spot</th>\n",
       "      <th>ret_future</th>\n",
       "    </tr>\n",
       "  </thead>\n",
       "  <tbody>\n",
       "    <tr>\n",
       "      <th>count</th>\n",
       "      <td>246.000000</td>\n",
       "      <td>246.000000</td>\n",
       "    </tr>\n",
       "    <tr>\n",
       "      <th>mean</th>\n",
       "      <td>0.416776</td>\n",
       "      <td>0.414017</td>\n",
       "    </tr>\n",
       "    <tr>\n",
       "      <th>std</th>\n",
       "      <td>4.333323</td>\n",
       "      <td>4.419049</td>\n",
       "    </tr>\n",
       "    <tr>\n",
       "      <th>min</th>\n",
       "      <td>-18.563647</td>\n",
       "      <td>-18.944697</td>\n",
       "    </tr>\n",
       "    <tr>\n",
       "      <th>25%</th>\n",
       "      <td>-1.831388</td>\n",
       "      <td>-1.931400</td>\n",
       "    </tr>\n",
       "    <tr>\n",
       "      <th>50%</th>\n",
       "      <td>0.918522</td>\n",
       "      <td>0.997641</td>\n",
       "    </tr>\n",
       "    <tr>\n",
       "      <th>75%</th>\n",
       "      <td>3.276468</td>\n",
       "      <td>3.133588</td>\n",
       "    </tr>\n",
       "    <tr>\n",
       "      <th>max</th>\n",
       "      <td>10.230659</td>\n",
       "      <td>10.387184</td>\n",
       "    </tr>\n",
       "  </tbody>\n",
       "</table>\n",
       "</div>"
      ],
      "text/plain": [
       "         ret_spot  ret_future\n",
       "count  246.000000  246.000000\n",
       "mean     0.416776    0.414017\n",
       "std      4.333323    4.419049\n",
       "min    -18.563647  -18.944697\n",
       "25%     -1.831388   -1.931400\n",
       "50%      0.918522    0.997641\n",
       "75%      3.276468    3.133588\n",
       "max     10.230659   10.387184"
      ]
     },
     "execution_count": 9,
     "metadata": {},
     "output_type": "execute_result"
    }
   ],
   "source": [
    "# Summary statistics\n",
    "data.describe()"
   ]
  },
  {
   "cell_type": "code",
   "execution_count": 10,
   "id": "29be6391",
   "metadata": {},
   "outputs": [
    {
     "name": "stdout",
     "output_type": "stream",
     "text": [
      "                            OLS Regression Results                            \n",
      "==============================================================================\n",
      "Dep. Variable:               ret_spot   R-squared:                       0.989\n",
      "Model:                            OLS   Adj. R-squared:                  0.989\n",
      "Method:                 Least Squares   F-statistic:                 2.147e+04\n",
      "Date:                Thu, 23 Dec 2021   Prob (F-statistic):          7.54e-240\n",
      "Time:                        21:48:42   Log-Likelihood:                -157.16\n",
      "No. Observations:                 246   AIC:                             318.3\n",
      "Df Residuals:                     244   BIC:                             325.3\n",
      "Df Model:                           1                                         \n",
      "Covariance Type:            nonrobust                                         \n",
      "==============================================================================\n",
      "                 coef    std err          t      P>|t|      [0.025      0.975]\n",
      "------------------------------------------------------------------------------\n",
      "Intercept      0.0131      0.029      0.444      0.658      -0.045       0.071\n",
      "ret_future     0.9751      0.007    146.543      0.000       0.962       0.988\n",
      "==============================================================================\n",
      "Omnibus:                       48.818   Durbin-Watson:                   2.969\n",
      "Prob(Omnibus):                  0.000   Jarque-Bera (JB):              671.062\n",
      "Skew:                          -0.016   Prob(JB):                    1.91e-146\n",
      "Kurtosis:                      11.091   Cond. No.                         4.45\n",
      "==============================================================================\n",
      "\n",
      "Notes:\n",
      "[1] Standard Errors assume that the covariance matrix of the errors is correctly specified.\n"
     ]
    }
   ],
   "source": [
    "# Linear regression of Spot Returns against Futures Returns\n",
    "formula2 = 'ret_spot ~ ret_future'\n",
    "results2 = smf.ols(formula2, data).fit()\n",
    "print(results2.summary())"
   ]
  },
  {
   "cell_type": "code",
   "execution_count": 11,
   "id": "730236d7",
   "metadata": {},
   "outputs": [
    {
     "name": "stdout",
     "output_type": "stream",
     "text": [
      "<F test: F=array([[14.02980961]]), p=0.00022456631728795146, df_denom=244, df_num=1>\n"
     ]
    }
   ],
   "source": [
    "# To test the null hypothesis that beta = 1\n",
    "hypotheses2 = 'ret_future = 1'\n",
    "f_test2 = results2.f_test(hypotheses2)\n",
    "print(f_test2)"
   ]
  },
  {
   "cell_type": "code",
   "execution_count": null,
   "id": "6bee6d2a",
   "metadata": {},
   "outputs": [],
   "source": []
  }
 ],
 "metadata": {
  "kernelspec": {
   "display_name": "Python 3 (ipykernel)",
   "language": "python",
   "name": "python3"
  },
  "language_info": {
   "codemirror_mode": {
    "name": "ipython",
    "version": 3
   },
   "file_extension": ".py",
   "mimetype": "text/x-python",
   "name": "python",
   "nbconvert_exporter": "python",
   "pygments_lexer": "ipython3",
   "version": "3.8.8"
  }
 },
 "nbformat": 4,
 "nbformat_minor": 5
}
